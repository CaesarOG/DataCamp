{
 "cells": [
  {
   "cell_type": "markdown",
   "metadata": {},
   "source": [
    "<h1>Writing Your Own Functions</h1>"
   ]
  },
  {
   "cell_type": "code",
   "execution_count": 1,
   "metadata": {},
   "outputs": [
    {
     "name": "stdout",
     "output_type": "stream",
     "text": [
      "<class 'str'>\n",
      "16\n"
     ]
    }
   ],
   "source": [
    "#using functions in data science contexts: no params, 1 or more, then 1 or more return value.\n",
    "x = str(5) \n",
    "print(type(x)) #these three are built in functions. \n",
    "\n",
    "def square(): #no param no return\n",
    "    new_value = 4**2\n",
    "    print(new_value)\n",
    "\n",
    "square()"
   ]
  },
  {
   "cell_type": "code",
   "execution_count": 4,
   "metadata": {},
   "outputs": [
    {
     "name": "stdout",
     "output_type": "stream",
     "text": [
      "16\n",
      "4\n"
     ]
    }
   ],
   "source": [
    "def square(value): #1 param\n",
    "    new_value = value**2\n",
    "    print(new_value)\n",
    "\n",
    "square(4) #parameter is what it's called when defining a function, but actual values passed \n",
    "#are called the arguments.\n",
    "\n",
    "\n",
    "def square2(val): #1 param 1 return\n",
    "    '''Return the square of a value.''' #for docstring, 3 single/double quotes after fn header\n",
    "    return val**2 #removed extra var new_value\n",
    "\n",
    "print(square2(2))"
   ]
  },
  {
   "cell_type": "code",
   "execution_count": 20,
   "metadata": {},
   "outputs": [
    {
     "name": "stdout",
     "output_type": "stream",
     "text": [
      "(8, 9)\n",
      "8 9\n"
     ]
    }
   ],
   "source": [
    "#one gotcha, if assign a var to fn that prints but not return, var stores it but as NoneType.\n",
    "\n",
    "def raise_to_power(value1, value2): #mult params mult return\n",
    "    \"Raise value1 to power of value 2\"\n",
    "    new_one = value1 ** value2\n",
    "    new_two = value2 ** value1\n",
    "    return (new_one, new_two) #return tuple, like list but immutable\n",
    "result = raise_to_power(2,3) \n",
    "one, two = raise_to_power(2,3)\n",
    "print(result)\n",
    "print(one, two) #when assigned the return to var, one var just keeps tuple, or need a var for \n",
    "#each item if unpacking tuple."
   ]
  },
  {
   "cell_type": "code",
   "execution_count": 21,
   "metadata": {},
   "outputs": [
    {
     "data": {
      "text/plain": [
       "8"
      ]
     },
     "execution_count": 21,
     "metadata": {},
     "output_type": "execute_result"
    }
   ],
   "source": [
    "result[0] #tuple access same as list\n",
    "#print(y[x == \"Z\"]) bool array of which indices in x are \"Z\", used to select same indices in y."
   ]
  },
  {
   "cell_type": "markdown",
   "metadata": {},
   "source": [
    "So functions have a header (def, name, parentheses with any params, then colon); a body; and a return statement. \n",
    "\n",
    "\n",
    "Time to bring all this to data science context. Write fn analyzing dataframe of twitter data. Will return a dictionary of counts of how many time each language used across all tweets in the dataframe. Will later generalize the function as a lambda with df.apply to get occurences of any item in a dataframe column. "
   ]
  },
  {
   "cell_type": "code",
   "execution_count": null,
   "metadata": {},
   "outputs": [],
   "source": []
  }
 ],
 "metadata": {
  "kernelspec": {
   "display_name": "Python 3",
   "language": "python",
   "name": "python3"
  },
  "language_info": {
   "codemirror_mode": {
    "name": "ipython",
    "version": 3
   },
   "file_extension": ".py",
   "mimetype": "text/x-python",
   "name": "python",
   "nbconvert_exporter": "python",
   "pygments_lexer": "ipython3",
   "version": "3.7.0"
  }
 },
 "nbformat": 4,
 "nbformat_minor": 2
}
