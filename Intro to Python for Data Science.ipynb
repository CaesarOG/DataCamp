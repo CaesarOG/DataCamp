{
 "cells": [
  {
   "cell_type": "markdown",
   "metadata": {},
   "source": [
    "<h4>Python Basics</h4>\n",
    "Not just another Python tutorial, focus is on using it for data science. Store and manipulate data, deploy tools for your own analysis. Python made by Guido van Rossum started as hobby project now it's a general purpose language you can make basically any kind of software with it, not that you should lol. Since Python is open source, the community made many data science packages so that it matches up to R, and is actually more popular now. Fancy visualizations, connecting to db for sensor measurement analysis, etc.\n",
    "Version 2.7 is fading over time, use 3.x (latest was 3.5 for a while now on 3.7, most people on 3.5) .\n",
    "\n",
    "Can do interactive sessions in IPython Jupyter, or write a python file \".py\" ."
   ]
  },
  {
   "cell_type": "code",
   "execution_count": 1,
   "metadata": {},
   "outputs": [
    {
     "name": "stdout",
     "output_type": "stream",
     "text": [
      "0.625\n",
      "16\n",
      "4\n",
      "194.87171000000012\n"
     ]
    }
   ],
   "source": [
    "#This is a Python comment\n",
    "print(5/8) #print call\n",
    "print(4 ** 2) #4^2, exponent\n",
    "print(18%7) #modulo, gives remainder\n",
    "print(100*(1.1**7)) #annual cmpnded interest, A = P(1+r)^t"
   ]
  },
  {
   "cell_type": "code",
   "execution_count": 2,
   "metadata": {},
   "outputs": [
    {
     "data": {
      "text/plain": [
       "float"
      ]
     },
     "execution_count": 2,
     "metadata": {},
     "output_type": "execute_result"
    }
   ],
   "source": [
    "height = 2 #defining variable, remember variables in any programming lang are case-sensitive,\n",
    "#so if you ask back value of \"Height\" get error since defined \"height\".\n",
    "\n",
    "weight = 68.7 #5 main types number, string, tuple, list, dictionary. There's also boolean.\n",
    "#Number can be float/int/long. In 2.7 Python doing 5/8 gives zero, because 8 goes into\n",
    "#5 zero times, and the remainder is discarded. But doing 5.0/8.0 worked right. But after moving\n",
    "#on from Python 2.x, this problem removed, any integer division converted to (& returns) float.\n",
    "\n",
    "z = True #doing type(z) would say bool, a boolean is always either true or false.\n",
    "type(weight) #will say float."
   ]
  },
  {
   "cell_type": "code",
   "execution_count": 3,
   "metadata": {},
   "outputs": [
    {
     "name": "stdout",
     "output_type": "stream",
     "text": [
      "compound interestcompound interest\n"
     ]
    }
   ],
   "source": [
    "'ab'+'cd' #the + operator is overloaded, concats for string and math adds for number\n",
    "#so different type, different behavior.\n",
    "desc = \"compound interest\"\n",
    "doubledesc = desc+desc #concatenates the given string with itself\n",
    "print(doubledesc)"
   ]
  },
  {
   "cell_type": "code",
   "execution_count": 4,
   "metadata": {},
   "outputs": [
    {
     "name": "stdout",
     "output_type": "stream",
     "text": [
      "I said Hey Hey Hey!\n"
     ]
    }
   ],
   "source": [
    "str(weight) #type conversion of that float to string\n",
    "pi_string = \"3.1415926\"\n",
    "pi_float = float(pi_string) #converts above to float\n",
    "print(\"I said \"+ (\"Hey \" *2) + \"Hey!\") #mult on string concats it with itself as many times\n",
    "#as you say the 'multiplication' needs to occur, this will say 'I said Hey Hey Hey!'."
   ]
  },
  {
   "cell_type": "markdown",
   "metadata": {},
   "source": [
    "<h4>Python Lists</h4>"
   ]
  },
  {
   "cell_type": "code",
   "execution_count": 5,
   "metadata": {},
   "outputs": [
    {
     "name": "stdout",
     "output_type": "stream",
     "text": [
      "True\n"
     ]
    },
    {
     "data": {
      "text/plain": [
       "list"
      ]
     },
     "execution_count": 5,
     "metadata": {},
     "output_type": "execute_result"
    }
   ],
   "source": [
    "heights = [1.73, 1.68, 1.71, 1.89] #this is a list, you wouldn't want to store a dataset of\n",
    "#heights in separate variables that's a nightmare. List is an array.\n",
    "\n",
    "collage = [\"str\", True, 1, 2.77] #a list can store diff types, elements can be lists also.\n",
    "fam = [\"appa\", 2, \"amma\", 2] #rather than do this storing names every other elt, do below:\n",
    "\n",
    "fam2 = [[\"appa\", 2], [\"amma\", 2]] #version using sublists for each person. Now rather than\n",
    "#using error prone system where even index is name (0,2,4) and odds are height (1,3,5) you\n",
    "#instead have each family member's info together in own sublists.\n",
    "\n",
    "print(fam[0]==fam2[0][0]) #both give \"appa\", but fam2 data structure better organized.\n",
    "type(fam2) #list of lists itself must have type list, so do sublists.\n",
    "#And never forget, indexing starts at zero :) ."
   ]
  },
  {
   "cell_type": "code",
   "execution_count": 6,
   "metadata": {},
   "outputs": [
    {
     "data": {
      "text/plain": [
       "['aaaaa']"
      ]
     },
     "execution_count": 6,
     "metadata": {},
     "output_type": "execute_result"
    }
   ],
   "source": [
    "list1 = [1+2,\"a\"*5, 3] #list of [3,\"aaaaa\", 3]\n",
    "list1[-1] #negative indexing, starts after last elt of list & goes back (by 1 in this case),\n",
    "#the last element is [-1]. DONT forget second index is still exclusive when using a negative \n",
    "#index. so if -1 is second index, so sublicing [:-1], get up to 2nd-to-last-element.\n",
    "\n",
    "list1[1:2] #slice of a list, first index is the first element that will be in the slice, \n",
    "#but second index is exclusive, so it's not in the slice, slice goes up to element before the\n",
    "#2nd index. So list1[1:2] says 2nd elt up to but not including 3rd elt, just gives \"aaaaa\".\n",
    "\n",
    "#If you wanted the third elt also (index 2) then you CAN technically do list1[1:3] but that\n",
    "#second index is technically out of bounds, so operation only works because the second index \n",
    "#is exclusive. The proper way is list1[1:], by not specifying second index it goes to end."
   ]
  },
  {
   "cell_type": "code",
   "execution_count": 7,
   "metadata": {},
   "outputs": [
    {
     "data": {
      "text/plain": [
       "[3, 'aaaaa']"
      ]
     },
     "execution_count": 7,
     "metadata": {},
     "output_type": "execute_result"
    }
   ],
   "source": [
    "#Similarly list1[:2] gives start up to before index = 2 so [3, 'aaaaa']. And list1[:] goes \n",
    "#from start to end you'll get all three elements, the entirety of list1.\n",
    "list1[:2]"
   ]
  },
  {
   "cell_type": "code",
   "execution_count": 8,
   "metadata": {},
   "outputs": [],
   "source": [
    "# Create the areas list\n",
    "areas = [\"hallway\", 11.25, \"kitchen\", 18.0, \"living room\", 20.0, \"bedroom\", 10.75, \"bathroom\", \n",
    "         9.50]\n",
    "\n",
    "# Use slicing to create downstairs\n",
    "downstairs = areas[:6]\n",
    "\n",
    "# Use slicing to create upstairs\n",
    "upstairs = areas[-4:]"
   ]
  },
  {
   "cell_type": "code",
   "execution_count": 9,
   "metadata": {},
   "outputs": [],
   "source": [
    "fam[3] = 2 #after making a list set a particular element.\n",
    "fam2[-1][1] = 2 #doing the same for a list-within-list, update amma's height.\n",
    "#Can also slice a list and replace with another list, updating multiple elts in 1 command.\n",
    "\n",
    "x = [\"a\", \"b\", \"c\", \"d\"] #example of replacing slice of list with new list.\n",
    "x[1] = \"r\"\n",
    "x[2:] = [\"s\", \"t\"]"
   ]
  },
  {
   "cell_type": "code",
   "execution_count": 10,
   "metadata": {},
   "outputs": [],
   "source": [
    "#If you use + operator with two lists, concatenates like with strings. Can't use plus\n",
    "#to add an element to list, so areas = areas + \"porch\" or areas = areas + 2 gives error.\n",
    "areas = areas + [\"porch\"] #how to actually do it.\n",
    "del(areas[10]) #delete the element we just added."
   ]
  },
  {
   "cell_type": "markdown",
   "metadata": {},
   "source": [
    "Behind the scenes, if you declare a list x, it is stored in the memory, and x just has the address of where the list begins in memory. When you copy a list like y=x, you copied the reference, and then changing y will also change x. To actually get a separate copy,  y = list(x) or y = x[:] will do the trick."
   ]
  },
  {
   "cell_type": "code",
   "execution_count": 11,
   "metadata": {},
   "outputs": [],
   "source": [
    "#Lets say areas is a list of 14, you want to delete the 11th and 12th element. You can \n",
    "#in one command say del(areas[-4:-2]) which deletes that slice of 11th and 12th."
   ]
  },
  {
   "cell_type": "markdown",
   "metadata": {},
   "source": [
    "<h4>Functions and Packages</h4>\n",
    "A function is nothing but a piece of reuseable code that solves a particular task, takes in values and returns something after running the code with the values."
   ]
  },
  {
   "cell_type": "code",
   "execution_count": 12,
   "metadata": {},
   "outputs": [
    {
     "name": "stdout",
     "output_type": "stream",
     "text": [
      "8.9\n",
      "Help on built-in function round in module builtins:\n",
      "\n",
      "round(number, ndigits=None)\n",
      "    Round a number to a given precision in decimal digits.\n",
      "    \n",
      "    The return value is an integer if ndigits is omitted or None.  Otherwise\n",
      "    the return value has the same type as the number.  ndigits may be negative.\n",
      "\n"
     ]
    }
   ],
   "source": [
    "#type() is an example of a builtin function.\n",
    "#max(areas) won't work, list must contain all same data type, so all numbers or all strings.\n",
    "\n",
    "#the max function is also built in, returns maximum value in a list by doing > compare for\n",
    "#all values in list until reaching end, setting max = any item if it's greater than max.\n",
    "\n",
    "tallest = max([2,3,4])\n",
    "print(round(8.94, 1)) #2nd argument is the precision. This also a built in. Not giving 2nd\n",
    "#arg means number gets rounded to closest int.\n",
    "help(round) #gives you documentation on the function, Shift+Tab in Jupyter also does this."
   ]
  },
  {
   "cell_type": "code",
   "execution_count": 13,
   "metadata": {},
   "outputs": [
    {
     "name": "stdout",
     "output_type": "stream",
     "text": [
      "10\n"
     ]
    },
    {
     "data": {
      "text/plain": [
       "[20.0, 18.0, 11.25, 10.75, 9.5]"
      ]
     },
     "execution_count": 13,
     "metadata": {},
     "output_type": "execute_result"
    }
   ],
   "source": [
    "#the bracket above around ndigits means it's optional, can do round(number, ndigits) or just\n",
    "#round(number). If you need to do 'x' which is like a standard task, likely a built in exists.\n",
    "\n",
    "print(len(areas)) #built in for list length, also can give amt of chars in a string.\n",
    "#complex(real[, imag]) a built in for complex numbers.\n",
    "first = [11.25, 18.0, 20.0]\n",
    "second = [10.75, 9.50]\n",
    "full = first+second #below line sorts this list in descending order.\n",
    "sorted(full, reverse = True) #built in sorted(iterable, key=None, reverse=False). None and\n",
    "#False are default values for those two params. iterable is any collection like list."
   ]
  },
  {
   "cell_type": "markdown",
   "metadata": {},
   "source": [
    "Built ins only one part of the story. methods are functions that are part of a class, they\n",
    "belong to an object. Lists have methods like count, any list has it. Object is the base type, \n",
    "the five basic types str, list , number (subtypes are float, long, int which is what actually\n",
    "shows up when you do type(value) and not Number) etc. inherit from object. All objects have \n",
    "methods so object/instance of class str has str methods, lists have list methods, float, etc. So diff types of objects all have methods depending on the type."
   ]
  },
  {
   "cell_type": "code",
   "execution_count": 14,
   "metadata": {},
   "outputs": [
    {
     "data": {
      "text/plain": [
       "5"
      ]
     },
     "execution_count": 14,
     "metadata": {},
     "output_type": "execute_result"
    }
   ],
   "source": [
    "fam.index(\"amma\") #list method to get index of a value's first occurence in a list.\n",
    "\n",
    "fam.count(2) #list method to count amt times a value occurs in a list. You are calling \n",
    "#method count or index on fam which is an instance of class list (which has those methods).\n",
    "me = \"neeraj\"\n",
    "me = me.capitalize() #string method to capitalize first letter of a string object.\n",
    "me = me.replace(\"j\", \"jakshi\") #string method replaces first occurence of 1st arg in a string \n",
    "#with second arg.\n",
    "me.index(\"jakshi\") #index method exists on string also as does count. Some methods are in more\n",
    "#than 1 type, method acts differently but analogously in each type. "
   ]
  },
  {
   "cell_type": "code",
   "execution_count": 15,
   "metadata": {},
   "outputs": [
    {
     "data": {
      "text/plain": [
       "'NEERAJAKSHI'"
      ]
     },
     "execution_count": 15,
     "metadata": {},
     "output_type": "execute_result"
    }
   ],
   "source": [
    "#For list, index gets index of first matching element in list, and for strings gets index\n",
    "#of first time the substring is found as seen above substring doesn't have to be a single char.\n",
    "\n",
    "fam.append(\"me\") #list method that adds to end of list. Actually overwrites the list object \n",
    "#you call it on. Notice that capitalize string method did NOT overwrite, just returned a \n",
    "#modified copy.\n",
    "me.count('a')\n",
    "me.upper() #string method to uppercase, lower does lowercase.\n"
   ]
  },
  {
   "cell_type": "code",
   "execution_count": 16,
   "metadata": {},
   "outputs": [],
   "source": [
    "areas.index(9.5)\n",
    "areas.count(9.50) #these two list methods don't change the list, but below three all do.\n",
    "areas.append(\"porch\") #similar to areas = areas + \"porch\"\n",
    "areas.remove(\"porch\") #remove first occurence of value, delete(areas[10]) would accomplish this \n",
    "#using the index instead.\n",
    "areas.reverse() #reverses order of elts in list"
   ]
  },
  {
   "cell_type": "code",
   "execution_count": 17,
   "metadata": {},
   "outputs": [
    {
     "data": {
      "text/plain": [
       "[9.5,\n",
       " 'bathroom',\n",
       " 10.75,\n",
       " 'bedroom',\n",
       " 20.0,\n",
       " 'living room',\n",
       " 18.0,\n",
       " 'kitchen',\n",
       " 11.25,\n",
       " 'hallway']"
      ]
     },
     "execution_count": 17,
     "metadata": {},
     "output_type": "execute_result"
    }
   ],
   "source": [
    "areas"
   ]
  },
  {
   "cell_type": "markdown",
   "metadata": {},
   "source": [
    "Methods very powerful can use other people's code to solve your problem. But adding all python functions and methods anyone ever made into the python distribution would be huge mess, most code not being used. That's why there's packages that you \"pip install\". They are directory of Python scripts, each script is a module that defines some methods and types to solve particular problems. Thousands of packages like numpy for efficient array, matplotlib for data viz and scikit-learn for machine learning. You command line install using \"pip install name\" and then in a script \"import name\" at top."
   ]
  },
  {
   "cell_type": "code",
   "execution_count": 18,
   "metadata": {},
   "outputs": [],
   "source": [
    "import numpy #import installed package numpy\n",
    "import numpy as np #alias so can do \"np.bla\" instead of \"np.bla\" everywhere.\n",
    "\n",
    "np.array([1, 2, 3]) #just array([1,2,3]) would throw not defined error unless you did \n",
    "# from numpy import * , or from numpy import array.\n",
    "\n",
    "from numpy import array as arrb #give alias when importing one piece, can't give alias when \n",
    "#you do \"from numpy import *\" (in that case imported to global scope, no np.array just array).\n",
    "\n",
    "import matplotlib.pyplot as plt #other ways are from matplotlib import pyplot as plt or\n",
    "#from matplotlib.pyplot import * if want all directly in namespace (hist instead of plt.hist)\n",
    "\n",
    "#Best practice NOT to import * or to import members directly in. Best practice IS to import\n",
    "#whole lib with/without alias so you know what functions/methods/types come from what package."
   ]
  },
  {
   "cell_type": "code",
   "execution_count": 19,
   "metadata": {},
   "outputs": [
    {
     "name": "stdout",
     "output_type": "stream",
     "text": [
      "Circumf: 2.701769682087222\n"
     ]
    }
   ],
   "source": [
    "import math\n",
    "from math import radians\n",
    "C = math.pi*2*0.43\n",
    "print(\"Circumf: \"+str(C)) #have to explicit cast float Circumf to string for print out.\n",
    "\n",
    "dist = 192500*radians(12) #distance travelled by Moon over 12 degrees of orbit. Can calc\n",
    "#this as r * phi, r is radius phi is angle in radians. Radians fn converts 12 degrees to rad."
   ]
  },
  {
   "cell_type": "markdown",
   "metadata": {},
   "source": [
    "<h4>NumPy</h4>"
   ]
  },
  {
   "cell_type": "code",
   "execution_count": 20,
   "metadata": {},
   "outputs": [
    {
     "name": "stdout",
     "output_type": "stream",
     "text": [
      "[21.85171573 20.97505669 21.75028214 24.7473475  21.44127836]\n"
     ]
    }
   ],
   "source": [
    "#Lists can hold any type, diff types same time, change add remove elts, but missing way to do \n",
    "#any operation over entire collection and fast. \n",
    "heightList = [1.73, 1.68, 1.71, 1.89, 1.79]\n",
    "weightList = [65.4, 59.2, 63.6, 88.4, 68.7]\n",
    "\n",
    "#want to calc bmi = weight / (height^2). Can't directly do weight / height ** 2, throws error\n",
    "#unsupp operand types for **: list & int. Could for loop over both lists but very inefficient.\n",
    "npHeight = np.array(heightList)\n",
    "npWeight = np.array(weightList)\n",
    "bmi = npWeight / npHeight ** 2 #now have easy efficient way to do operation for entire set.\n",
    "print(bmi) #Numpy behind the scenes calls all matrix operations in C that's why efficient."
   ]
  },
  {
   "cell_type": "markdown",
   "metadata": {},
   "source": [
    "Calculations for bmi were performed element-wise using both numpy arrays, dividing each elt\n",
    "of npWeight by each element^2 from npHeight. Efficient elt-wise operations is why np array \n",
    "beats list. For this to be possible, np assumes each array only contains one type unlike list. After all, it must send the operation off to C so needs one type. If you try to use several types in np array, all coerced to strings. Try numpy array with 19 floats 1 string, all 20 will be strings. If instead combining ints and floats and booleans, all ints upcast to float, bool coerced to int then upcast to float. The np array is a created python type (numpy.ndarray, so class ndarray in package numpy), a type just like built in types like str, list, etc. Adding two lists concatenates. Adding two np arrays does elt-wise adding."
   ]
  },
  {
   "cell_type": "code",
   "execution_count": 21,
   "metadata": {},
   "outputs": [
    {
     "name": "stdout",
     "output_type": "stream",
     "text": [
      "[7 9]\n"
     ]
    }
   ],
   "source": [
    "#Apart from above differences, np array shares many operations with list.\n",
    "bmi[1] #gets 2nd item in bmi, just like doing list1[1].\n",
    "\n",
    "bmi > 23 #returns bool np array same size as bmi, wwith each index \"i\" true if bmi[i]> 23. \n",
    "\n",
    "bmi[bmi > 23] #in numpy can use bool array to subset similar to slicing a list. Returns all \n",
    "#elts where that condition true. If assigned the bmi > 23 bool array to b, can do bmi[b].\n",
    "\n",
    "x = np.array([\"X\", \"X\", \"Y\", \"Z\", \"Z\"])\n",
    "y = np.array([4, 1, 10, 7, 9])\n",
    "\n",
    "print(y[x == \"Z\"]) #bool array of which indices in x are \"Z\", used to select same indices in y."
   ]
  },
  {
   "cell_type": "code",
   "execution_count": 22,
   "metadata": {},
   "outputs": [
    {
     "data": {
      "text/plain": [
       "array([4, 5, 2])"
      ]
     },
     "execution_count": 22,
     "metadata": {},
     "output_type": "execute_result"
    }
   ],
   "source": [
    "#Could convert whole of npHeight to feet just doing npHeight*3.281, one line -> elt-wise.\n",
    "\n",
    "np.array([True, 1, 2]) + np.array([3, 4, False]) #results in type coercion, true becomes 1."
   ]
  },
  {
   "cell_type": "code",
   "execution_count": 23,
   "metadata": {},
   "outputs": [
    {
     "data": {
      "text/plain": [
       "array([[ 1.73,  1.68,  1.71,  1.89,  1.79],\n",
       "       [65.4 , 59.2 , 63.6 , 88.4 , 68.7 ]])"
      ]
     },
     "execution_count": 23,
     "metadata": {},
     "output_type": "execute_result"
    }
   ],
   "source": [
    "#The nd in ndarray means n dimensional; numpy array can be many dimensions.\n",
    "np_2d = np.array([[1.73, 1.68, 1.71, 1.89, 1.79], [65.4, 59.2, 63.6, 88.4, 68.7]]) #listoflists,\n",
    "#sublists are just heightList and weightList from before.\n",
    "np_2d"
   ]
  },
  {
   "cell_type": "markdown",
   "metadata": {},
   "source": [
    "TypeError data type not understood occurs when you try to pass the sublists directly, need the parent list otherwise python takes 1st sublist as the data, 2nd sublist as dtype arg. This makes it very clear why that error, the 2nd sublist is a list of data and not a dtype string!"
   ]
  },
  {
   "cell_type": "code",
   "execution_count": 24,
   "metadata": {},
   "outputs": [
    {
     "name": "stdout",
     "output_type": "stream",
     "text": [
      "(2, 5)\n",
      "[1.73 1.68 1.71 1.89 1.79]\n",
      "1.71\n",
      "1.71\n"
     ]
    },
    {
     "data": {
      "text/plain": [
       "array([[ 1.68,  1.71],\n",
       "       [59.2 , 63.6 ]])"
      ]
     },
     "execution_count": 24,
     "metadata": {},
     "output_type": "execute_result"
    }
   ],
   "source": [
    "#numpy rule applies for any nd array, 2d or more: ndarray can only contain 1 type. If one of \n",
    "#the 10 floats is changed to string, all elts will be coerced to string.\n",
    "print(np_2d.shape)\n",
    "print(np_2d[0]) #gives first row so first sublist, heightList.\n",
    "print(np_2d[0][2]) #third element of first row.\n",
    "print(np_2d[0,2]) #[row, col], gets 3rd elt of 1st row same as above.\n",
    "np_2d[:,1:3] #get 2nd & 3rd persons' height AND weight. gets all (both) rows, 2nd&3rd cols. \n",
    "#could have done np_2d[0:,1:3] or even np_2d[0:2,1:3] but remember second way [0:2] improper."
   ]
  },
  {
   "cell_type": "code",
   "execution_count": 25,
   "metadata": {},
   "outputs": [
    {
     "data": {
      "text/plain": [
       "array([65.4, 59.2, 63.6, 88.4, 68.7])"
      ]
     },
     "execution_count": 25,
     "metadata": {},
     "output_type": "execute_result"
    }
   ],
   "source": [
    "np_2d[1,:] #second row all cols. gets all 5 people's weights."
   ]
  },
  {
   "cell_type": "code",
   "execution_count": 26,
   "metadata": {},
   "outputs": [
    {
     "data": {
      "text/plain": [
       "array([21.85171573, 20.97505669, 21.75028214, 24.7473475 , 21.44127836])"
      ]
     },
     "execution_count": 26,
     "metadata": {},
     "output_type": "execute_result"
    }
   ],
   "source": [
    "np_2d[1] / np_2d[0] **2 #calc same bmi, weightList went into [1] and heightList into [0] ."
   ]
  },
  {
   "cell_type": "code",
   "execution_count": 27,
   "metadata": {},
   "outputs": [
    {
     "name": "stdout",
     "output_type": "stream",
     "text": [
      "<class 'numpy.ndarray'>\n",
      "(4, 2)\n"
     ]
    }
   ],
   "source": [
    "baseball = [[74, 180], #height(in) weight(lb) are the cols, rows are samples (diff players)\n",
    "            [74, 215],#this is how data should be organized. np_2d was backwards, height &\n",
    "            [72, 210], #weight as rows, diff people as cols, if transpose that, get correct.\n",
    "            [72, 210]]\n",
    "\n",
    "np_baseball = np.array(baseball)\n",
    "print(type(np_baseball)) #<class 'numpy.ndarray'>, just type(np_baseball) gives numpy.ndarray .\n",
    "print(np_baseball.shape) #dimensions of the ndarray. Full size one in DataCamp is (1015,2) . \n",
    "\n",
    "#So that has all 1015 players' heights and weights, this example is 4 players."
   ]
  },
  {
   "cell_type": "code",
   "execution_count": 28,
   "metadata": {},
   "outputs": [
    {
     "name": "stdout",
     "output_type": "stream",
     "text": [
      "[ 72 210]\n",
      "[180 215 210 210]\n",
      "72\n"
     ]
    }
   ],
   "source": [
    "print(np_baseball[2,:]) #print out 3rd row, 3rd player's height and weight.\n",
    "print(np_baseball[:,1]) #entire second column, all 4 players' weights.\n",
    "print(np_baseball[3,0]) #the 4th player's height. "
   ]
  },
  {
   "cell_type": "code",
   "execution_count": 29,
   "metadata": {},
   "outputs": [
    {
     "name": "stdout",
     "output_type": "stream",
     "text": [
      "(4,)\n"
     ]
    },
    {
     "data": {
      "text/plain": [
       "array([list([74, 180]), list([74, 215, 74, 215, 74, 215]),\n",
       "       list([72, 210]), list([72, 210])], dtype=object)"
      ]
     },
     "execution_count": 29,
     "metadata": {},
     "output_type": "execute_result"
    }
   ],
   "source": [
    "example = [[74, 180], \n",
    "          [74, 215]*3,\n",
    "          [72, 210], \n",
    "          [72, 210]]\n",
    "example = np.array(example)\n",
    "print(example.shape) #not all rows have 2 cols (2nd row has 6), shape only shows rows.\n",
    "\n",
    "example #still can row-col index example[3][0], but example[2,:] or example[:,1] gives error \n",
    "#too many indices, since col amt not uniform."
   ]
  },
  {
   "cell_type": "code",
   "execution_count": 30,
   "metadata": {},
   "outputs": [
    {
     "data": {
      "text/plain": [
       "array([[12, 14],\n",
       "       [16, 18],\n",
       "       [20, 22]])"
      ]
     },
     "execution_count": 30,
     "metadata": {},
     "output_type": "execute_result"
    }
   ],
   "source": [
    "np_mat = np.array([[1, 2],\n",
    "                   [3, 4],\n",
    "                   [5, 6]])\n",
    "np_mat = np_mat * 2 #elt wise everything mult by 2\n",
    "np_mat = np_mat + np.array([10, 10]) #if try to add diff shapes, numpy sees if possible to\n",
    "#broadcast, here adding (3,2) w/ (1,2) same cols so adds the [10,10] elt-wise to each row.\n",
    "np_mat"
   ]
  },
  {
   "cell_type": "code",
   "execution_count": 31,
   "metadata": {},
   "outputs": [],
   "source": [
    "baseball2 = [[74.0, 180.0, 22.99], #new baseball list, height weight and age.\n",
    "             [74.0, 215.0, 34.69],\n",
    "             [72.0, 210.0, 30.78],\n",
    "             [72.0, 210.0, 35.43],\n",
    "             [73.0, 188.0, 35.71],\n",
    "             [69.0, 176.0, 29.39]]\n",
    "np_baseball2 = np.array(baseball2)\n",
    "#in DataCamp example, next added \"updated\", also np.array, which elt-wise updated each \n",
    "#height, weight and age, since \"updated\" is to update by 1 year, all its age values were 1.\n",
    "\n",
    "conversion = np.array([0.0254, 0.453592, 1]) #in to cm, lb to kg, age needs none.\n",
    "print(np_baseball2*conversion)#not dot product (sum of elt-wise mult)! Just regular mult, each\n",
    "#row mult with conversion, col to col no summing.\n",
    "\n",
    "#print(y[x == \"Z\"]) bool array of which indices in x are \"Z\", used to select same indices in y.\n"
   ]
  },
  {
   "cell_type": "markdown",
   "metadata": {},
   "source": [
    "IF you did `np_baseball2.dot(conversion)` or `np.dot(np_baseball2,conversion)`, the dims are\n",
    "1015,3 and 3,1 inner dims match leads to 1015,1. Here since it's NOT dot prod, and just reg multiplication, get 1015,3. For regular mult the col amount must match, and for dot prod inner dims must match (cols of left with rows of right). This means for regular mult, \"conversion\" array must be a horizontal row vector, and for dotprod \"conversion\" is vertical column vector. \n",
    "Ff conversion is array of not 3 elts (4 for example), mismatch errors for both reg-mult and dot-prod are below. \n",
    "```python\n",
    "In [3]: np_baseball*conversion\n",
    "Traceback (most recent call last):\n",
    "  File \"<stdin>\", line 1, in <module>\n",
    "    np_baseball*conversion\n",
    "ValueError: operands could not be broadcast together with shapes (1015,3) (4,)\n",
    "\n",
    "In [4]: np_baseball.dot(conversion)\n",
    "Traceback (most recent call last):\n",
    "  File \"<stdin>\", line 1, in <module>\n",
    "    np_baseball.dot(conversion)\n",
    "ValueError: shapes (1015,3) and (4,) not aligned: 3 (dim 1) != 4 (dim 0)\n",
    "```"
   ]
  },
  {
   "cell_type": "code",
   "execution_count": 34,
   "metadata": {},
   "outputs": [
    {
     "name": "stdout",
     "output_type": "stream",
     "text": [
      "a\n",
      "b\n",
      "c\n",
      "a\n",
      "b\n",
      "c\n",
      "if conversion is array of not 3 elts (4 for example), mismatch errors for both reg-mult and dot-prod are below\n"
     ]
    }
   ],
   "source": [
    "#for second course Intermediate Python for Data Science, section 4 Loops.\n",
    "#looping over string, two ways to do same thing, notice i is the value itself in first example\n",
    "#because using x but is the index in second example because using range len(x), have to use \n",
    "#index into x to get value there.\n",
    "\n",
    "x = \"abc\"\n",
    "\n",
    "for i in x:\n",
    "    print(i)\n",
    "    \n",
    "for i in range(len(x)):\n",
    "    print(x[i])\n",
    "\n",
    "print(\"IF CONVERSION IS ARRAY OF NOT 3 ELTS (4 FOR EXAMPLE), MISMATCH ERRORS FOR BOTH REG-MULT AND DOT-PROD ARE BELOW\".lower())"
   ]
  },
  {
   "cell_type": "code",
   "execution_count": 33,
   "metadata": {},
   "outputs": [
    {
     "data": {
      "text/plain": [
       "[<matplotlib.lines.Line2D at 0x11c3927b8>]"
      ]
     },
     "execution_count": 33,
     "metadata": {},
     "output_type": "execute_result"
    },
    {
     "data": {
      "image/png": "[encoded data removed]",
      "text/plain": [
       "<Figure size 460.8x403.2 with 1 Axes>"
      ]
     },
     "metadata": {},
     "output_type": "display_data"
    }
   ],
   "source": [
    "from jupyterthemes import jtplot\n",
    "jtplot.style()\n",
    "xspace = np.linspace(0,10,100)\n",
    "yspace = np.tan(xspace)\n",
    "import matplotlib.pyplot as plt\n",
    "plt.plot(yspace)\n"
   ]
  },
  {
   "cell_type": "code",
   "execution_count": null,
   "metadata": {},
   "outputs": [],
   "source": []
  }
 ],
 "metadata": {
  "kernelspec": {
   "display_name": "Python 3",
   "language": "python",
   "name": "python3"
  },
  "language_info": {
   "codemirror_mode": {
    "name": "ipython",
    "version": 3
   },
   "file_extension": ".py",
   "mimetype": "text/x-python",
   "name": "python",
   "nbconvert_exporter": "python",
   "pygments_lexer": "ipython3",
   "version": "3.7.0"
  }
 },
 "nbformat": 4,
 "nbformat_minor": 2
}
